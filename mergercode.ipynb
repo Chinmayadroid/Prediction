{
 "cells": [
  {
   "cell_type": "code",
   "execution_count": 7,
   "id": "0ddf21cf-601c-420e-bcef-06f6741a5047",
   "metadata": {},
   "outputs": [
    {
     "name": "stderr",
     "output_type": "stream",
     "text": [
      "C:\\Users\\irt\\AppData\\Local\\Temp\\ipykernel_1524\\1009646687.py:8: DtypeWarning: Columns (4,7,8,10,15,21,22,23,24,28,29,32,33,34,37,38) have mixed types. Specify dtype option on import or set low_memory=False.\n",
      "  sheet1 = pd.read_csv(file_path1)\n"
     ]
    },
    {
     "name": "stdout",
     "output_type": "stream",
     "text": [
      "Merged file 'C:\\Users\\Public\\Downloads\\finallynew.csv' created successfully.\n"
     ]
    },
    {
     "name": "stderr",
     "output_type": "stream",
     "text": [
      "C:\\Users\\irt\\AppData\\Local\\Temp\\ipykernel_1524\\1009646687.py:9: DtypeWarning: Columns (4,10,14,15,17,18,20,21,22,23,24,25,26,28,29,32,33,34) have mixed types. Specify dtype option on import or set low_memory=False.\n",
      "  sheet2 = pd.read_csv(file_path2)\n"
     ]
    }
   ],
   "source": [
    "import pandas as pd\n",
    "\n",
    "# Define the file paths\n",
    "file_path1 = r'C:\\Users\\irt\\Downloads\\all.csv'\n",
    "file_path2 = r'C:\\Users\\Public\\Downloads\\TestingData.csv'\n",
    "\n",
    "# Load the two CSV files\n",
    "sheet1 = pd.read_csv(file_path1)\n",
    "sheet2 = pd.read_csv(file_path2)\n",
    "\n",
    "# Select the specified columns\n",
    "columns_to_select = ['Order Description', 'Purchase Order Text', 'Category', 'Sub Category']\n",
    "sheet1_selected = sheet1[columns_to_select]\n",
    "sheet2_selected = sheet2[columns_to_select]\n",
    "\n",
    "# Take 10,000 random rows from each sheet\n",
    "sheet1_sample = sheet1_selected.sample(n=10000, random_state=42)\n",
    "sheet2_sample = sheet2_selected.sample(n=10000, random_state=42)\n",
    "\n",
    "# Concatenate the samples row-wise\n",
    "combined = pd.concat([sheet1_sample, sheet2_sample], ignore_index=True)\n",
    "\n",
    "# Save the result to a new CSV file\n",
    "output_path = r'C:\\Users\\Public\\Downloads\\finallynew.csv'\n",
    "combined.to_csv(output_path, index=False)\n",
    "\n",
    "print(f\"Merged file '{output_path}' created successfully.\")\n"
   ]
  },
  {
   "cell_type": "code",
   "execution_count": null,
   "id": "17a4beba-f39c-4264-9244-e7ee09c326ec",
   "metadata": {},
   "outputs": [],
   "source": []
  }
 ],
 "metadata": {
  "kernelspec": {
   "display_name": "Python 3 (ipykernel)",
   "language": "python",
   "name": "python3"
  },
  "language_info": {
   "codemirror_mode": {
    "name": "ipython",
    "version": 3
   },
   "file_extension": ".py",
   "mimetype": "text/x-python",
   "name": "python",
   "nbconvert_exporter": "python",
   "pygments_lexer": "ipython3",
   "version": "3.12.4"
  }
 },
 "nbformat": 4,
 "nbformat_minor": 5
}
